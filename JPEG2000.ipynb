{
 "cells": [
  {
   "cell_type": "markdown",
   "metadata": {},
   "source": [
    "[![Binder](https://mybinder.org/badge_logo.svg)](https://nbviewer.org/github/Sistemas-Multimedia/Sistemas-Multimedia.github.io/blob/master/milestones/07-DCT/JPEG.ipynb)"
   ]
  },
  {
   "cell_type": "markdown",
   "metadata": {},
   "source": [
    "# [JPEG2000](https://pillow.readthedocs.io/en/stable/handbook/image-file-formats.html#jpeg-2000) RD curve\n",
    "\n",
    "Unfinished"
   ]
  },
  {
   "cell_type": "code",
   "execution_count": null,
   "metadata": {},
   "outputs": [],
   "source": [
    "import os"
   ]
  },
  {
   "cell_type": "code",
   "execution_count": null,
   "metadata": {},
   "outputs": [],
   "source": [
    "kakadu=\"KDU805_Demo_Apps_for_Linux-x86-64_200602\""
   ]
  },
  {
   "cell_type": "code",
   "execution_count": null,
   "metadata": {},
   "outputs": [],
   "source": [
    "%%bash -s \"$kakadu\"\n",
    "if [ -f $1.zip ]; then\n",
    "    echo \"Kakadu already downloaded\"\n",
    "else\n",
    "    wget http://kakadusoftware.com/wp-content/uploads/$1.zip\n",
    "fi"
   ]
  },
  {
   "cell_type": "code",
   "execution_count": null,
   "metadata": {},
   "outputs": [],
   "source": [
    "!unzip $kakadu"
   ]
  },
  {
   "cell_type": "code",
   "execution_count": null,
   "metadata": {},
   "outputs": [],
   "source": [
    "!echo $LD_LIBRARY_PATH"
   ]
  },
  {
   "cell_type": "code",
   "execution_count": null,
   "metadata": {},
   "outputs": [],
   "source": [
    "old = os.environ.get(\"LD_LIBRARY_PATH\")\n",
    "home = os.environ[\"HOME\"]\n",
    "if old:\n",
    "    os.environ[\"LD_LIBRARY_PATH\"] = old + \":\" + kakadu\n",
    "else:\n",
    "    os.environ[\"LD_LIBRARY_PATH\"] = home + \"/repos/JPEG2000/\" + kakadu"
   ]
  },
  {
   "cell_type": "code",
   "execution_count": null,
   "metadata": {},
   "outputs": [],
   "source": [
    "!echo $LD_LIBRARY_PATH"
   ]
  },
  {
   "cell_type": "code",
   "execution_count": null,
   "metadata": {},
   "outputs": [],
   "source": [
    "import numpy as np\n",
    "import matplotlib\n",
    "import matplotlib.pyplot as plt\n",
    "%matplotlib inline\n",
    "!ln -sf ~/repos/image_IO/logging_config.py .\n",
    "!ln -sf ~/repos/image_IO/image_3.py .\n",
    "import image_3 as image\n",
    "!ln -sf ~/repos/information_theory/distortion.py .\n",
    "!ln -sf ~/repos/information_theory/information.py .\n",
    "import distortion\n",
    "import pylab\n",
    "import PIL\n",
    "import subprocess\n"
   ]
  },
  {
   "cell_type": "code",
   "execution_count": null,
   "metadata": {},
   "outputs": [],
   "source": [
    "HOME = os.environ[\"HOME\"]\n",
    "test_image = HOME + \"/repos/MRVC/images/lena_color/\""
   ]
  },
  {
   "cell_type": "code",
   "execution_count": null,
   "metadata": {},
   "outputs": [],
   "source": [
    "JPEG2K_RD_points = []\n",
    "xx = image.read(test_image, 0)\n",
    "for slope in range(45000, 43000, -100):\n",
    "    !convert {test_image}000.png /tmp/1.tiff\n",
    "    !./{kakadu}/kdu_compress -i /tmp/1.tiff -o /tmp/1.j2c -slope {slope}\n",
    "    BPP = os.path.getsize(\"/tmp/1.j2c\")*8/(xx.shape[0]*xx.shape[1])\n",
    "    zz = np.asarray(PIL.Image.open(\"/tmp/1.j2c\"))\n",
    "    RMSE = distortion.RMSE(xx, zz)\n",
    "    JPEG2K_RD_points.append((BPP, RMSE))\n",
    "    print(BPP, RMSE)"
   ]
  },
  {
   "cell_type": "code",
   "execution_count": null,
   "metadata": {},
   "outputs": [],
   "source": [
    "pylab.figure(dpi=150)\n",
    "pylab.plot(*zip(*JPEG2K_RD_points), label=\"JPEG 2000\")\n",
    "pylab.title(f\"JPEG 2000 {test_image}\")\n",
    "pylab.xlabel(\"Bits/Pixel\")\n",
    "pylab.ylabel(\"RMSE\")\n",
    "plt.legend(loc=\"best\")\n",
    "pylab.show()"
   ]
  },
  {
   "cell_type": "code",
   "execution_count": null,
   "metadata": {},
   "outputs": [],
   "source": [
    "with open('JPEG2000.txt', 'w') as f:\n",
    "    for item in JPEG2K_RD_points:\n",
    "        f.write(f\"{item[0]}\\t{item[1]}\\n\")"
   ]
  },
  {
   "cell_type": "code",
   "execution_count": null,
   "metadata": {},
   "outputs": [],
   "source": []
  }
 ],
 "metadata": {
  "kernelspec": {
   "display_name": "Python 3 (ipykernel)",
   "language": "python",
   "name": "python3"
  },
  "language_info": {
   "codemirror_mode": {
    "name": "ipython",
    "version": 3
   },
   "file_extension": ".py",
   "mimetype": "text/x-python",
   "name": "python",
   "nbconvert_exporter": "python",
   "pygments_lexer": "ipython3",
   "version": "3.10.5"
  }
 },
 "nbformat": 4,
 "nbformat_minor": 4
}
